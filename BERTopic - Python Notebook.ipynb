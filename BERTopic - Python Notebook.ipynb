{
 "cells": [
  {
   "cell_type": "markdown",
   "id": "fabea03d",
   "metadata": {},
   "source": [
    "## Import Libraries, Data, and Filter by Response Length"
   ]
  },
  {
   "cell_type": "code",
   "execution_count": 1,
   "id": "94124c30",
   "metadata": {},
   "outputs": [],
   "source": [
    "import pandas as pd\n",
    "import string\n",
    "from bertopic import BERTopic\n",
    "from sklearn.feature_extraction.text import CountVectorizer\n",
    "\n",
    "file_name = \"file\"\n",
    "\n",
    "data = pd.read_excel( file_name + \".xlsx\")\n",
    "data['text_column'] = data['text_column'].astype(str)\n",
    "data = data[data['text_column'].str.len() > 2].reset_index()"
   ]
  },
  {
   "cell_type": "markdown",
   "id": "0d70ad69",
   "metadata": {},
   "source": [
    "## Run BERTopic Model on Responses, Print Categories"
   ]
  },
  {
   "cell_type": "code",
   "execution_count": 2,
   "id": "c45ecb65",
   "metadata": {},
   "outputs": [
    {
     "data": {
      "application/vnd.jupyter.widget-view+json": {
       "model_id": "64549579d6b14187a71a6a3b379195a3",
       "version_major": 2,
       "version_minor": 0
      },
      "text/plain": [
       "Batches:   0%|          | 0/14 [00:00<?, ?it/s]"
      ]
     },
     "metadata": {},
     "output_type": "display_data"
    },
    {
     "name": "stderr",
     "output_type": "stream",
     "text": [
      "2024-03-14 09:37:14,256 - BERTopic - Transformed documents to Embeddings\n",
      "2024-03-14 09:37:29,597 - BERTopic - Reduced dimensionality\n",
      "2024-03-14 09:37:29,709 - BERTopic - Clustered reduced embeddings\n"
     ]
    },
    {
     "data": {
      "text/html": [
       "<div>\n",
       "<style scoped>\n",
       "    .dataframe tbody tr th:only-of-type {\n",
       "        vertical-align: middle;\n",
       "    }\n",
       "\n",
       "    .dataframe tbody tr th {\n",
       "        vertical-align: top;\n",
       "    }\n",
       "\n",
       "    .dataframe thead th {\n",
       "        text-align: right;\n",
       "    }\n",
       "</style>\n",
       "<table border=\"1\" class=\"dataframe\">\n",
       "  <thead>\n",
       "    <tr style=\"text-align: right;\">\n",
       "      <th></th>\n",
       "      <th>Topic</th>\n",
       "      <th>Count</th>\n",
       "      <th>Name</th>\n",
       "      <th>Representation</th>\n",
       "      <th>Representative_Docs</th>\n",
       "    </tr>\n",
       "  </thead>\n",
       "  <tbody>\n",
       "    <tr>\n",
       "      <th>0</th>\n",
       "      <td>-1</td>\n",
       "      <td>11</td>\n",
       "      <td>-1_good_good good_great presentation_review good</td>\n",
       "      <td>[good, good good, great presentation, review g...</td>\n",
       "      <td>[GOOD, Good, Good]</td>\n",
       "    </tr>\n",
       "    <tr>\n",
       "      <th>1</th>\n",
       "      <td>0</td>\n",
       "      <td>305</td>\n",
       "      <td>0_obesity_weight_patients_medications</td>\n",
       "      <td>[obesity, weight, patients, medications, loss,...</td>\n",
       "      <td>[More on obesity, Obesity and contraception/fa...</td>\n",
       "    </tr>\n",
       "    <tr>\n",
       "      <th>2</th>\n",
       "      <td>1</td>\n",
       "      <td>32</td>\n",
       "      <td>1_xxx_ty nash_ty_nash xxx</td>\n",
       "      <td>[xxx, ty nash, ty, nash xxx, nash, , , , , ]</td>\n",
       "      <td>[NASH, xxx, any ty]</td>\n",
       "    </tr>\n",
       "    <tr>\n",
       "      <th>3</th>\n",
       "      <td>2</td>\n",
       "      <td>31</td>\n",
       "      <td>2_nan_nan nan_nan na_na</td>\n",
       "      <td>[nan, nan nan, nan na, na, , , , , , ]</td>\n",
       "      <td>[nan, nan, nan]</td>\n",
       "    </tr>\n",
       "    <tr>\n",
       "      <th>4</th>\n",
       "      <td>3</td>\n",
       "      <td>19</td>\n",
       "      <td>3_nil_nil nil_nill nil_nill</td>\n",
       "      <td>[nil, nil nil, nill nil, nill, eee, eee nill, ...</td>\n",
       "      <td>[nil, NIL, NIL]</td>\n",
       "    </tr>\n",
       "    <tr>\n",
       "      <th>5</th>\n",
       "      <td>4</td>\n",
       "      <td>19</td>\n",
       "      <td>4_time_time time_time think_think</td>\n",
       "      <td>[time, time time, time think, think, time dont...</td>\n",
       "      <td>[None at this time, None at this time., none a...</td>\n",
       "    </tr>\n",
       "    <tr>\n",
       "      <th>6</th>\n",
       "      <td>5</td>\n",
       "      <td>16</td>\n",
       "      <td>5_yes_sure_yes yes_say dont</td>\n",
       "      <td>[yes, sure, yes yes, say dont, hard say, say, ...</td>\n",
       "      <td>[yes, Yes, yes]</td>\n",
       "    </tr>\n",
       "    <tr>\n",
       "      <th>7</th>\n",
       "      <td>6</td>\n",
       "      <td>12</td>\n",
       "      <td>6_comment_comment comment_practice_great content</td>\n",
       "      <td>[comment, comment comment, practice, great con...</td>\n",
       "      <td>[no comment, No comment, no comment]</td>\n",
       "    </tr>\n",
       "  </tbody>\n",
       "</table>\n",
       "</div>"
      ],
      "text/plain": [
       "   Topic  Count                                              Name  \\\n",
       "0     -1     11  -1_good_good good_great presentation_review good   \n",
       "1      0    305             0_obesity_weight_patients_medications   \n",
       "2      1     32                         1_xxx_ty nash_ty_nash xxx   \n",
       "3      2     31                           2_nan_nan nan_nan na_na   \n",
       "4      3     19                       3_nil_nil nil_nill nil_nill   \n",
       "5      4     19                 4_time_time time_time think_think   \n",
       "6      5     16                       5_yes_sure_yes yes_say dont   \n",
       "7      6     12  6_comment_comment comment_practice_great content   \n",
       "\n",
       "                                      Representation  \\\n",
       "0  [good, good good, great presentation, review g...   \n",
       "1  [obesity, weight, patients, medications, loss,...   \n",
       "2       [xxx, ty nash, ty, nash xxx, nash, , , , , ]   \n",
       "3             [nan, nan nan, nan na, na, , , , , , ]   \n",
       "4  [nil, nil nil, nill nil, nill, eee, eee nill, ...   \n",
       "5  [time, time time, time think, think, time dont...   \n",
       "6  [yes, sure, yes yes, say dont, hard say, say, ...   \n",
       "7  [comment, comment comment, practice, great con...   \n",
       "\n",
       "                                 Representative_Docs  \n",
       "0                                 [GOOD, Good, Good]  \n",
       "1  [More on obesity, Obesity and contraception/fa...  \n",
       "2                                [NASH, xxx, any ty]  \n",
       "3                                    [nan, nan, nan]  \n",
       "4                                    [nil, NIL, NIL]  \n",
       "5  [None at this time, None at this time., none a...  \n",
       "6                                    [yes, Yes, yes]  \n",
       "7               [no comment, No comment, no comment]  "
      ]
     },
     "execution_count": 2,
     "metadata": {},
     "output_type": "execute_result"
    }
   ],
   "source": [
    "vectorizer_model = CountVectorizer(ngram_range=(1, 2), stop_words=\"english\")\n",
    "\n",
    "model = BERTopic(\n",
    "    vectorizer_model=vectorizer_model,\n",
    "    language='english', calculate_probabilities=True,\n",
    "    verbose=True\n",
    ")\n",
    "topics, probs = model.fit_transform(data['text_column'])\n",
    "\n",
    "freq = model.get_topic_info()\n",
    "freq"
   ]
  },
  {
   "cell_type": "markdown",
   "id": "80c7c8a7",
   "metadata": {},
   "source": [
    "## Filter Responses by Topic \"0\" and rerun BERTopic Categorization, Print Categories"
   ]
  },
  {
   "cell_type": "code",
   "execution_count": 3,
   "id": "1e2d021f",
   "metadata": {},
   "outputs": [],
   "source": [
    "data['Topic'] = model.topics_\n",
    "topic_0_df = data.loc[data['Topic'] == 0]"
   ]
  },
  {
   "cell_type": "code",
   "execution_count": 4,
   "id": "5150bfe2",
   "metadata": {},
   "outputs": [
    {
     "data": {
      "application/vnd.jupyter.widget-view+json": {
       "model_id": "0690f81010d84c52930e9da175f3e576",
       "version_major": 2,
       "version_minor": 0
      },
      "text/plain": [
       "Batches:   0%|          | 0/10 [00:00<?, ?it/s]"
      ]
     },
     "metadata": {},
     "output_type": "display_data"
    },
    {
     "name": "stderr",
     "output_type": "stream",
     "text": [
      "2024-03-14 09:37:33,644 - BERTopic - Transformed documents to Embeddings\n",
      "2024-03-14 09:37:37,673 - BERTopic - Reduced dimensionality\n",
      "2024-03-14 09:37:37,720 - BERTopic - Clustered reduced embeddings\n"
     ]
    }
   ],
   "source": [
    "model0 = BERTopic(\n",
    "    vectorizer_model=vectorizer_model,\n",
    "    language='english', calculate_probabilities=True,\n",
    "    verbose=True\n",
    ")\n",
    "topics0, probs0 = model0.fit_transform(topic_0_df['text_column'])"
   ]
  },
  {
   "cell_type": "code",
   "execution_count": 5,
   "id": "acf686cb",
   "metadata": {},
   "outputs": [
    {
     "data": {
      "text/html": [
       "<div>\n",
       "<style scoped>\n",
       "    .dataframe tbody tr th:only-of-type {\n",
       "        vertical-align: middle;\n",
       "    }\n",
       "\n",
       "    .dataframe tbody tr th {\n",
       "        vertical-align: top;\n",
       "    }\n",
       "\n",
       "    .dataframe thead th {\n",
       "        text-align: right;\n",
       "    }\n",
       "</style>\n",
       "<table border=\"1\" class=\"dataframe\">\n",
       "  <thead>\n",
       "    <tr style=\"text-align: right;\">\n",
       "      <th></th>\n",
       "      <th>Topic</th>\n",
       "      <th>Count</th>\n",
       "      <th>Name</th>\n",
       "      <th>Representation</th>\n",
       "      <th>Representative_Docs</th>\n",
       "    </tr>\n",
       "  </thead>\n",
       "  <tbody>\n",
       "    <tr>\n",
       "      <th>0</th>\n",
       "      <td>-1</td>\n",
       "      <td>54</td>\n",
       "      <td>-1_na_covid_insurance_complications</td>\n",
       "      <td>[na, covid, insurance, complications, covid re...</td>\n",
       "      <td>[COVID RELATED COMPLICATIONS., I would like to...</td>\n",
       "    </tr>\n",
       "    <tr>\n",
       "      <th>1</th>\n",
       "      <td>0</td>\n",
       "      <td>73</td>\n",
       "      <td>0_cardiology_patient_sleep apnea_apnea</td>\n",
       "      <td>[cardiology, patient, sleep apnea, apnea, orth...</td>\n",
       "      <td>[Orthopedics, cardiology, diabetes, Conversati...</td>\n",
       "    </tr>\n",
       "    <tr>\n",
       "      <th>2</th>\n",
       "      <td>1</td>\n",
       "      <td>65</td>\n",
       "      <td>1_obesity_patients_weight_obesity obesity</td>\n",
       "      <td>[obesity, patients, weight, obesity obesity, s...</td>\n",
       "      <td>[obesity, More on obesity, Obesity and contrac...</td>\n",
       "    </tr>\n",
       "    <tr>\n",
       "      <th>3</th>\n",
       "      <td>2</td>\n",
       "      <td>32</td>\n",
       "      <td>2_new_medications_medication_new medications</td>\n",
       "      <td>[new, medications, medication, new medications...</td>\n",
       "      <td>[continue updates n new meds, updates on new m...</td>\n",
       "    </tr>\n",
       "    <tr>\n",
       "      <th>4</th>\n",
       "      <td>3</td>\n",
       "      <td>26</td>\n",
       "      <td>3_diabetes_insulin_medications diabetes_medica...</td>\n",
       "      <td>[diabetes, insulin, medications diabetes, medi...</td>\n",
       "      <td>[The Educational Impact of Web-Based, Faculty-...</td>\n",
       "    </tr>\n",
       "    <tr>\n",
       "      <th>5</th>\n",
       "      <td>4</td>\n",
       "      <td>20</td>\n",
       "      <td>4_diet_nutrition_exercise_education</td>\n",
       "      <td>[diet, nutrition, exercise, education, diets, ...</td>\n",
       "      <td>[Diet and exercise plan for mid to late age pa...</td>\n",
       "    </tr>\n",
       "    <tr>\n",
       "      <th>6</th>\n",
       "      <td>5</td>\n",
       "      <td>18</td>\n",
       "      <td>5_weight_loss_weight loss_weight management</td>\n",
       "      <td>[weight, loss, weight loss, weight management,...</td>\n",
       "      <td>[I would love to learn more about weight loss ...</td>\n",
       "    </tr>\n",
       "    <tr>\n",
       "      <th>7</th>\n",
       "      <td>6</td>\n",
       "      <td>17</td>\n",
       "      <td>6_bariatric_bariatric surgery_surgery_complica...</td>\n",
       "      <td>[bariatric, bariatric surgery, surgery, compli...</td>\n",
       "      <td>[complications of bariatric surgery, Bariatric...</td>\n",
       "    </tr>\n",
       "  </tbody>\n",
       "</table>\n",
       "</div>"
      ],
      "text/plain": [
       "   Topic  Count                                               Name  \\\n",
       "0     -1     54                -1_na_covid_insurance_complications   \n",
       "1      0     73             0_cardiology_patient_sleep apnea_apnea   \n",
       "2      1     65          1_obesity_patients_weight_obesity obesity   \n",
       "3      2     32       2_new_medications_medication_new medications   \n",
       "4      3     26  3_diabetes_insulin_medications diabetes_medica...   \n",
       "5      4     20                4_diet_nutrition_exercise_education   \n",
       "6      5     18        5_weight_loss_weight loss_weight management   \n",
       "7      6     17  6_bariatric_bariatric surgery_surgery_complica...   \n",
       "\n",
       "                                      Representation  \\\n",
       "0  [na, covid, insurance, complications, covid re...   \n",
       "1  [cardiology, patient, sleep apnea, apnea, orth...   \n",
       "2  [obesity, patients, weight, obesity obesity, s...   \n",
       "3  [new, medications, medication, new medications...   \n",
       "4  [diabetes, insulin, medications diabetes, medi...   \n",
       "5  [diet, nutrition, exercise, education, diets, ...   \n",
       "6  [weight, loss, weight loss, weight management,...   \n",
       "7  [bariatric, bariatric surgery, surgery, compli...   \n",
       "\n",
       "                                 Representative_Docs  \n",
       "0  [COVID RELATED COMPLICATIONS., I would like to...  \n",
       "1  [Orthopedics, cardiology, diabetes, Conversati...  \n",
       "2  [obesity, More on obesity, Obesity and contrac...  \n",
       "3  [continue updates n new meds, updates on new m...  \n",
       "4  [The Educational Impact of Web-Based, Faculty-...  \n",
       "5  [Diet and exercise plan for mid to late age pa...  \n",
       "6  [I would love to learn more about weight loss ...  \n",
       "7  [complications of bariatric surgery, Bariatric...  "
      ]
     },
     "execution_count": 5,
     "metadata": {},
     "output_type": "execute_result"
    }
   ],
   "source": [
    "freq0 = model0.get_topic_info()\n",
    "freq0"
   ]
  },
  {
   "cell_type": "markdown",
   "id": "d22b3234",
   "metadata": {},
   "source": [
    "## Overwrite Topics in Filtered Responses with New Topic Tags, Names (To Do)"
   ]
  },
  {
   "cell_type": "code",
   "execution_count": 6,
   "id": "815b67f3",
   "metadata": {},
   "outputs": [],
   "source": [
    "topic_0_df['Topic'] = model0.topics_"
   ]
  },
  {
   "cell_type": "markdown",
   "id": "71c27b43",
   "metadata": {},
   "source": [
    "## Export Report as Excel File"
   ]
  },
  {
   "cell_type": "code",
   "execution_count": 7,
   "id": "278b441c",
   "metadata": {},
   "outputs": [],
   "source": [
    "with pd.ExcelWriter( file_name + \"_analysis.xlsx\") as writer:\n",
    "    topic_0_df.to_excel(writer, sheet_name=\"Filtered_Responses\", index=True)\n",
    "    freq0.to_excel(writer, sheet_name=\"Categories_Overview\", index=False)"
   ]
  },
  {
   "cell_type": "code",
   "execution_count": null,
   "id": "4d3ff606",
   "metadata": {},
   "outputs": [],
   "source": []
  }
 ],
 "metadata": {
  "kernelspec": {
   "display_name": "Python 3 (ipykernel)",
   "language": "python",
   "name": "python3"
  },
  "language_info": {
   "codemirror_mode": {
    "name": "ipython",
    "version": 3
   },
   "file_extension": ".py",
   "mimetype": "text/x-python",
   "name": "python",
   "nbconvert_exporter": "python",
   "pygments_lexer": "ipython3",
   "version": "3.11.3"
  }
 },
 "nbformat": 4,
 "nbformat_minor": 5
}
