{
 "cells": [
  {
   "cell_type": "markdown",
   "id": "fabea03d",
   "metadata": {},
   "source": [
    "## Import Libraries, Data, and Filter by Response Length"
   ]
  },
  {
   "cell_type": "code",
   "execution_count": 1,
   "id": "94124c30",
   "metadata": {},
   "outputs": [],
   "source": [
    "import pandas as pd\n",
    "import string\n",
    "from bertopic import BERTopic\n",
    "from sklearn.feature_extraction.text import CountVectorizer\n",
    "\n",
    "file_name = \"file\"\n",
    "\n",
    "data = pd.read_excel( file_name + \".xlsx\")\n",
    "data['text_column'] = data['text_column'].astype(str)\n",
    "data = data[data['text_column'].str.len() > 2].reset_index()"
   ]
  },
  {
   "cell_type": "markdown",
   "id": "0d70ad69",
   "metadata": {},
   "source": [
    "## Run BERTopic Model on Responses, Print Categories"
   ]
  },
  {
   "cell_type": "code",
   "execution_count": 2,
   "id": "c45ecb65",
   "metadata": {},
   "outputs": [],
   "source": [
    "vectorizer_model = CountVectorizer(ngram_range=(1, 2), stop_words=\"english\")\n",
    "\n",
    "model = BERTopic(\n",
    "    vectorizer_model=vectorizer_model,\n",
    "    language='english', calculate_probabilities=True,\n",
    "    verbose=True\n",
    ")\n",
    "topics, probs = model.fit_transform(data['text_column'])\n",
    "\n",
    "freq = model.get_topic_info()\n",
    "freq"
   ]
  },
  {
   "cell_type": "markdown",
   "id": "80c7c8a7",
   "metadata": {},
   "source": [
    "## Filter Responses by Topic \"0\" and rerun BERTopic Categorization, Print Categories"
   ]
  },
  {
   "cell_type": "code",
   "execution_count": 3,
   "id": "1e2d021f",
   "metadata": {},
   "outputs": [],
   "source": [
    "data['Topic'] = model.topics_\n",
    "topic_0_df = data.loc[data['Topic'] == 0]"
   ]
  },
  {
   "cell_type": "code",
   "execution_count": 3,
   "id": "5150bfe2",
   "metadata": {},
   "outputs": [],
   "source": [
    "model0 = BERTopic(\n",
    "    vectorizer_model=vectorizer_model,\n",
    "    language='english', calculate_probabilities=True,\n",
    "    verbose=True\n",
    ")\n",
    "topics0, probs0 = model0.fit_transform(topic_0_df['text_column'])"
   ]
  },
  {
   "cell_type": "code",
   "execution_count": 1,
   "id": "acf686cb",
   "metadata": {},
   "outputs": [],
   "source": [
    "freq0 = model0.get_topic_info()\n",
    "freq0"
   ]
  },
  {
   "cell_type": "markdown",
   "id": "d22b3234",
   "metadata": {},
   "source": [
    "## Overwrite Topics in Filtered Responses with New Topic Tags, Names (To Do)"
   ]
  },
  {
   "cell_type": "code",
   "execution_count": 6,
   "id": "815b67f3",
   "metadata": {},
   "outputs": [],
   "source": [
    "topic_0_df['Topic'] = model0.topics_"
   ]
  },
  {
   "cell_type": "markdown",
   "id": "71c27b43",
   "metadata": {},
   "source": [
    "## Export Report as Excel File"
   ]
  },
  {
   "cell_type": "code",
   "execution_count": 7,
   "id": "278b441c",
   "metadata": {},
   "outputs": [],
   "source": [
    "with pd.ExcelWriter( file_name + \"_analysis.xlsx\") as writer:\n",
    "    topic_0_df.to_excel(writer, sheet_name=\"Filtered_Responses\", index=True)\n",
    "    freq0.to_excel(writer, sheet_name=\"Categories_Overview\", index=False)"
   ]
  }
 ],
 "metadata": {
  "kernelspec": {
   "display_name": "Python 3 (ipykernel)",
   "language": "python",
   "name": "python3"
  },
  "language_info": {
   "codemirror_mode": {
    "name": "ipython",
    "version": 3
   },
   "file_extension": ".py",
   "mimetype": "text/x-python",
   "name": "python",
   "nbconvert_exporter": "python",
   "pygments_lexer": "ipython3",
   "version": "3.11.3"
  }
 },
 "nbformat": 4,
 "nbformat_minor": 5
}
